{
 "cells": [
  {
   "cell_type": "markdown",
   "metadata": {
    "application/vnd.databricks.v1+cell": {
     "cellMetadata": {},
     "inputWidgets": {},
     "nuid": "6cd9892b-7d36-4957-a400-d5150a046a83",
     "showTitle": false,
     "tableResultSettingsMap": {},
     "title": ""
    }
   },
   "source": [
    "# Netflix Content-Based Recommendation System using PySpark"
   ]
  },
  {
   "cell_type": "markdown",
   "metadata": {
    "application/vnd.databricks.v1+cell": {
     "cellMetadata": {},
     "inputWidgets": {},
     "nuid": "bea09d1e-f0bc-4297-ab22-e99194d35fa1",
     "showTitle": false,
     "tableResultSettingsMap": {},
     "title": ""
    }
   },
   "source": [
    "This notebook demonstrates how to build a recommendation system that suggests similar Netflix shows or movies based solely on their content (title, genre, and description). It uses PySpark for large-scale data processing and applies tokenization, stopword removal, and a custom Jaccard similarity function to identify the most similar titles without relying on user ratings or collaborative filtering techniques."
   ]
  },
  {
   "cell_type": "code",
   "execution_count": 0,
   "metadata": {
    "application/vnd.databricks.v1+cell": {
     "cellMetadata": {
      "byteLimit": 2048000,
      "rowLimit": 10000
     },
     "inputWidgets": {},
     "nuid": "54746f6f-eef3-4650-a3b0-ca2ba15ee982",
     "showTitle": false,
     "tableResultSettingsMap": {},
     "title": ""
    }
   },
   "outputs": [
    {
     "output_type": "stream",
     "name": "stdout",
     "output_type": "stream",
     "text": [
      "+---------------------+----------------------------------------------------------------------------------------------------------------------------------------------------------------------------------------------------------------------------+\n|title                |text                                                                                                                                                                                                                        |\n+---------------------+----------------------------------------------------------------------------------------------------------------------------------------------------------------------------------------------------------------------------+\n|Dick Johnson Is Dead |dick johnson is dead documentaries as her father nears the end of his life, filmmaker kirsten johnson stages his death in inventive and comical ways to help them both face the inevitable.                                 |\n|Blood & Water        |blood & water international tv shows, tv dramas, tv mysteries after crossing paths at a party, a cape town teen sets out to prove whether a private-school swimming star is her sister who was abducted at birth.           |\n|Ganglands            |ganglands crime tv shows, international tv shows, tv action & adventure to protect his family from a powerful drug lord, skilled thief mehdi and his expert team of robbers are pulled into a violent and deadly turf war.  |\n|Jailbirds New Orleans|jailbirds new orleans docuseries, reality tv feuds, flirtations and toilet talk go down among the incarcerated women at the orleans justice center in new orleans on this gritty reality series.                            |\n|Kota Factory         |kota factory international tv shows, romantic tv shows, tv comedies in a city of coaching centers known to train india’s finest collegiate minds, an earnest but unexceptional student and his friends navigate campus life.|\n+---------------------+----------------------------------------------------------------------------------------------------------------------------------------------------------------------------------------------------------------------------+\nonly showing top 5 rows\n\n"
     ]
    }
   ],
   "source": [
    "# Step 1: Load the Netflix dataset\n",
    "netflix_df = (\n",
    "    spark.read.option(\"header\", True)\n",
    "               .option(\"inferSchema\", True)\n",
    "               .csv(\"/FileStore/netflix_titles.csv\")\n",
    ")\n",
    "\n",
    "# Clean null values and combine 'title', 'listed_in', and 'description' into a single lowercase text column\n",
    "from pyspark.sql.functions import col, concat_ws, lower\n",
    "\n",
    "netflix_df = (\n",
    "    netflix_df.na.fill(\"\")\n",
    "              .withColumn(\"text\", concat_ws(\" \",\n",
    "                                            lower(col(\"title\")),\n",
    "                                            lower(col(\"listed_in\")),\n",
    "                                            lower(col(\"description\"))))\n",
    ")\n",
    "\n",
    "# Show first 5 rows of cleaned data\n",
    "netflix_df.select(\"title\", \"text\").show(5, truncate=False)\n"
   ]
  },
  {
   "cell_type": "code",
   "execution_count": 0,
   "metadata": {
    "application/vnd.databricks.v1+cell": {
     "cellMetadata": {
      "byteLimit": 2048000,
      "rowLimit": 10000
     },
     "inputWidgets": {},
     "nuid": "76549b24-28f1-4f4b-9e89-bb85fe971b41",
     "showTitle": false,
     "tableResultSettingsMap": {},
     "title": ""
    }
   },
   "outputs": [
    {
     "output_type": "stream",
     "name": "stdout",
     "output_type": "stream",
     "text": [
      "+---------------------+-----------------------------------------------------------------------------------------------------------------------------------------------------------------------------------------------------------------------------+\n|title                |filtered_words                                                                                                                                                                                                               |\n+---------------------+-----------------------------------------------------------------------------------------------------------------------------------------------------------------------------------------------------------------------------+\n|Dick Johnson Is Dead |[dick, johnson, dead, documentaries, father, nears, end, life,, filmmaker, kirsten, johnson, stages, death, inventive, comical, ways, help, face, inevitable.]                                                               |\n|Blood & Water        |[blood, &, water, international, tv, shows,, tv, dramas,, tv, mysteries, crossing, paths, party,, cape, town, teen, sets, prove, whether, private-school, swimming, star, sister, abducted, birth.]                          |\n|Ganglands            |[ganglands, crime, tv, shows,, international, tv, shows,, tv, action, &, adventure, protect, family, powerful, drug, lord,, skilled, thief, mehdi, expert, team, robbers, pulled, violent, deadly, turf, war.]               |\n|Jailbirds New Orleans|[jailbirds, new, orleans, docuseries,, reality, tv, feuds,, flirtations, toilet, talk, go, among, incarcerated, women, orleans, justice, center, new, orleans, gritty, reality, series.]                                     |\n|Kota Factory         |[kota, factory, international, tv, shows,, romantic, tv, shows,, tv, comedies, city, coaching, centers, known, train, india’s, finest, collegiate, minds,, earnest, unexceptional, student, friends, navigate, campus, life.]|\n+---------------------+-----------------------------------------------------------------------------------------------------------------------------------------------------------------------------------------------------------------------------+\nonly showing top 5 rows\n\n"
     ]
    }
   ],
   "source": [
    "# Step 2: Tokenize the text and remove common stopwords\n",
    "from pyspark.ml.feature import Tokenizer, StopWordsRemover\n",
    "\n",
    "# Tokenizer splits text into words\n",
    "tokenizer = Tokenizer(inputCol=\"text\", outputCol=\"words\")\n",
    "\n",
    "# StopWordsRemover filters out common English words\n",
    "stopper = StopWordsRemover(inputCol=\"words\", outputCol=\"filtered_words\")\n",
    "\n",
    "# Apply tokenizer\n",
    "tokenized = tokenizer.transform(netflix_df)\n",
    "\n",
    "# Apply stopword remover\n",
    "processed = stopper.transform(tokenized).select(\"title\", \"filtered_words\").cache()\n",
    "\n",
    "# Show sample of processed data\n",
    "processed.show(5, truncate=False)\n"
   ]
  },
  {
   "cell_type": "code",
   "execution_count": 0,
   "metadata": {
    "application/vnd.databricks.v1+cell": {
     "cellMetadata": {
      "byteLimit": 2048000,
      "rowLimit": 10000
     },
     "inputWidgets": {},
     "nuid": "d4cd8c36-7207-4c98-8484-1864ef3a7f29",
     "showTitle": false,
     "tableResultSettingsMap": {},
     "title": ""
    }
   },
   "outputs": [],
   "source": [
    "# Step 3: Define Jaccard similarity function using UDF\n",
    "from pyspark.sql.functions import udf\n",
    "from pyspark.sql.types import DoubleType\n",
    "\n",
    "# Function to compute Jaccard similarity between two lists\n",
    "def jaccard_similarity(list1, list2):\n",
    "    set1, set2 = set(list1), set(list2)\n",
    "    if not set1 and not set2:\n",
    "        return 0.0\n",
    "    return float(len(set1 & set2)) / len(set1 | set2)\n",
    "\n",
    "# Register it as a Spark UDF\n",
    "jaccard_udf = udf(jaccard_similarity, DoubleType())\n"
   ]
  },
  {
   "cell_type": "code",
   "execution_count": 0,
   "metadata": {
    "application/vnd.databricks.v1+cell": {
     "cellMetadata": {
      "byteLimit": 2048000,
      "rowLimit": 10000
     },
     "inputWidgets": {},
     "nuid": "c2fc2331-7297-4284-93d9-b592de3e5032",
     "showTitle": false,
     "tableResultSettingsMap": {},
     "title": ""
    }
   },
   "outputs": [],
   "source": [
    "# Step 4: Define the recommend function\n",
    "def recommend(title: str, num_recs: int = 5):\n",
    "    # Find the row with the input title (case-insensitive)\n",
    "    title_row = processed.filter(lower(col(\"title\")) == title.lower()).collect()\n",
    "    \n",
    "    # If title not found, print and return\n",
    "    if not title_row:\n",
    "        print(f\"No such title found: '{title}'\")\n",
    "        return\n",
    "    \n",
    "    # Extract the filtered_words (token list) of the selected title\n",
    "    tokens = title_row[0]['filtered_words']\n",
    "    actual_title = title_row[0]['title']\n",
    "    print(f\"Target Title: {actual_title}\")\n",
    "\n",
    "    # Create a one-row DataFrame for the target token list\n",
    "    input_df = spark.createDataFrame([(tokens,)], [\"filtered_words_input\"])\n",
    "\n",
    "    # Cross join with the full dataset and compute Jaccard similarity for each row\n",
    "    recs = (\n",
    "        processed.crossJoin(input_df)\n",
    "                 .withColumn(\"jaccard\", jaccard_udf(\"filtered_words\", \"filtered_words_input\"))\n",
    "                 .filter(col(\"title\") != actual_title)\n",
    "                 .orderBy(col(\"jaccard\").desc())\n",
    "                 .select(\"title\", col(\"jaccard\").alias(\"Similarity_Score\"))\n",
    "                 .limit(num_recs)\n",
    "    )\n",
    "\n",
    "    # Show the top N recommendations\n",
    "    print(f\"Top {num_recs} Recommendations for '{actual_title}':\")\n",
    "    recs.show(truncate=False)\n"
   ]
  },
  {
   "cell_type": "code",
   "execution_count": 0,
   "metadata": {
    "application/vnd.databricks.v1+cell": {
     "cellMetadata": {
      "byteLimit": 2048000,
      "rowLimit": 10000
     },
     "inputWidgets": {},
     "nuid": "47224a30-73b4-4df3-862b-6b816687646e",
     "showTitle": false,
     "tableResultSettingsMap": {},
     "title": ""
    }
   },
   "outputs": [
    {
     "output_type": "stream",
     "name": "stdout",
     "output_type": "stream",
     "text": [
      "Target Title: Kota Factory\nTop 5 Recommendations for 'Kota Factory':\n+----------------------------------+-------------------+\n|title                             |Similarity_Score   |\n+----------------------------------+-------------------+\n|Before 30                         |0.1891891891891892 |\n|College Romance                   |0.17647058823529413|\n|Lovestruck in the City            |0.16666666666666666|\n|Little Things                     |0.16666666666666666|\n|O-Negative, Love Can’t Be Designed|0.16666666666666666|\n+----------------------------------+-------------------+\n\n"
     ]
    }
   ],
   "source": [
    "recommend(\"Kota Factory\", 5)\n"
   ]
  }
 ],
 "metadata": {
  "application/vnd.databricks.v1+notebook": {
   "computePreferences": null,
   "dashboards": [],
   "environmentMetadata": {
    "base_environment": "",
    "environment_version": "1"
   },
   "inputWidgetPreferences": null,
   "language": "python",
   "notebookMetadata": {
    "pythonIndentUnit": 4
   },
   "notebookName": "Netflix_Recommendation_System",
   "widgets": {
    "upload": {
     "currentValue": "",
     "nuid": "fb007436-e5e6-44bd-b581-c0d78f5e402c",
     "typedWidgetInfo": {
      "autoCreated": false,
      "defaultValue": "",
      "label": "Upload path hint (ignore)",
      "name": "upload",
      "options": {
       "widgetDisplayType": "Text",
       "validationRegex": null
      },
      "parameterDataType": "String"
     },
     "widgetInfo": {
      "widgetType": "text",
      "defaultValue": "",
      "label": "Upload path hint (ignore)",
      "name": "upload",
      "options": {
       "widgetType": "text",
       "autoCreated": false,
       "validationRegex": null
      }
     }
    }
   }
  }
 },
 "nbformat": 4,
 "nbformat_minor": 0
}